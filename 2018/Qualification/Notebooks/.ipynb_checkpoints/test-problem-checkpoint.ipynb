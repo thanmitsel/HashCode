{
 "cells": [
  {
   "cell_type": "code",
   "execution_count": 42,
   "metadata": {},
   "outputs": [],
   "source": [
    "import os\n",
    "import pandas as pd"
   ]
  },
  {
   "cell_type": "code",
   "execution_count": 16,
   "metadata": {},
   "outputs": [
    {
     "data": {
      "text/plain": [
       "['a_example.in',\n",
       " 'b_should_be_easy.in',\n",
       " 'c_no_hurry.in',\n",
       " 'd_metropolis.in',\n",
       " 'e_high_bonus.in',\n",
       " 'qualification_round_2018.in.zip']"
      ]
     },
     "execution_count": 16,
     "metadata": {},
     "output_type": "execute_result"
    }
   ],
   "source": [
    "path = '../Data/'\n",
    "os.listdir(path)"
   ]
  },
  {
   "cell_type": "code",
   "execution_count": 44,
   "metadata": {},
   "outputs": [],
   "source": [
    "filename = 'a_example.in'"
   ]
  },
  {
   "cell_type": "code",
   "execution_count": 45,
   "metadata": {},
   "outputs": [],
   "source": [
    "file = open(path+filename, 'r')\n",
    "example = file.read()"
   ]
  },
  {
   "cell_type": "code",
   "execution_count": 47,
   "metadata": {},
   "outputs": [
    {
     "name": "stdout",
     "output_type": "stream",
     "text": [
      "3 4 2 3 2 10\n",
      "0 0 1 3 2 9\n",
      "1 2 1 0 0 9\n",
      "2 0 2 2 0 9\n",
      "\n"
     ]
    }
   ],
   "source": [
    "print(example)"
   ]
  },
  {
   "cell_type": "code",
   "execution_count": 88,
   "metadata": {},
   "outputs": [],
   "source": [
    "col_names = ['row_start', 'col_start', 'row_end', 'col_end', 'early_start', 'late_finish']\n",
    "rename_cols = dict(zip(list(range(0, len(col_names))), col_names))\n",
    "ride_details = pd.read_csv(path+filename, sep = ' ', header = None, skiprows = 1).rename(columns = rename_cols)"
   ]
  },
  {
   "cell_type": "code",
   "execution_count": 83,
   "metadata": {},
   "outputs": [],
   "source": [
    "overview_vals = example.split('\\n')[0].split(' ')\n",
    "overview_vals = [int(val) for val in overview_vals]\n",
    "overview = dict(zip(['row', 'cols', 'vehicles', 'rides', 'bonus', 'steps'], overview_vals))"
   ]
  },
  {
   "cell_type": "code",
   "execution_count": 95,
   "metadata": {},
   "outputs": [
    {
     "data": {
      "text/plain": [
       "{'row': 3, 'cols': 4, 'vehicles': 2, 'rides': 3, 'bonus': 2, 'steps': 10}"
      ]
     },
     "execution_count": 95,
     "metadata": {},
     "output_type": "execute_result"
    }
   ],
   "source": [
    "overview"
   ]
  },
  {
   "cell_type": "code",
   "execution_count": 97,
   "metadata": {},
   "outputs": [],
   "source": [
    "class Manager:\n",
    "    def __init__(self, overview):\n",
    "        self.rows = overview['row']\n",
    "        self.cols = overview['cols']\n",
    "        self.vehicles = overview['vehicles']\n",
    "        self.rides = overview['rides']\n",
    "        self.steps = overview['steps']\n",
    "        \n",
    "    def assign_vehicle()"
   ]
  },
  {
   "cell_type": "code",
   "execution_count": null,
   "metadata": {},
   "outputs": [],
   "source": [
    "class Vehicle:\n",
    "    def __init__(self):\n",
    "        self.v_row = 0\n",
    "        self.v_col = 0"
   ]
  },
  {
   "cell_type": "code",
   "execution_count": 105,
   "metadata": {},
   "outputs": [],
   "source": [
    "class curRide:\n",
    "    def __init__(self, series):\n",
    "        self.row_st = series['row_start']\n",
    "        self.col_st = series['col_start']\n",
    "        self.row_fin = series['row_end']\n",
    "        self.col_fin = series['col_end']\n",
    "        self.step_st = series['early_start']\n",
    "        self.step_fin = series['late_finish']"
   ]
  },
  {
   "cell_type": "code",
   "execution_count": 98,
   "metadata": {},
   "outputs": [],
   "source": [
    "p1 = Manager(overview)"
   ]
  },
  {
   "cell_type": "code",
   "execution_count": 103,
   "metadata": {},
   "outputs": [
    {
     "data": {
      "text/plain": [
       "row_start      0\n",
       "col_start      0\n",
       "row_end        1\n",
       "col_end        3\n",
       "early_start    2\n",
       "late_finish    9\n",
       "Name: 0, dtype: int64"
      ]
     },
     "execution_count": 103,
     "metadata": {},
     "output_type": "execute_result"
    }
   ],
   "source": [
    "ride_details.loc[0]"
   ]
  },
  {
   "cell_type": "code",
   "execution_count": null,
   "metadata": {},
   "outputs": [],
   "source": []
  }
 ],
 "metadata": {
  "kernelspec": {
   "display_name": "Python 3",
   "language": "python",
   "name": "python3"
  },
  "language_info": {
   "codemirror_mode": {
    "name": "ipython",
    "version": 3
   },
   "file_extension": ".py",
   "mimetype": "text/x-python",
   "name": "python",
   "nbconvert_exporter": "python",
   "pygments_lexer": "ipython3",
   "version": "3.7.2"
  }
 },
 "nbformat": 4,
 "nbformat_minor": 2
}
