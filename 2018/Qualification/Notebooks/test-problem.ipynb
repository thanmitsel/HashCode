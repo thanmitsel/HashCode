{
 "cells": [
  {
   "cell_type": "code",
   "execution_count": 25,
   "metadata": {},
   "outputs": [],
   "source": [
    "import os\n",
    "import pandas as pd"
   ]
  },
  {
   "cell_type": "code",
   "execution_count": 26,
   "metadata": {},
   "outputs": [
    {
     "data": {
      "text/plain": [
       "['a_example.in',\n",
       " 'b_should_be_easy.in',\n",
       " 'c_no_hurry.in',\n",
       " 'd_metropolis.in',\n",
       " 'e_high_bonus.in',\n",
       " 'qualification_round_2018.in.zip']"
      ]
     },
     "execution_count": 26,
     "metadata": {},
     "output_type": "execute_result"
    }
   ],
   "source": [
    "path = '../Data/'\n",
    "os.listdir(path)"
   ]
  },
  {
   "cell_type": "code",
   "execution_count": 27,
   "metadata": {},
   "outputs": [],
   "source": [
    "filename = 'a_example.in'"
   ]
  },
  {
   "cell_type": "code",
   "execution_count": 615,
   "metadata": {},
   "outputs": [],
   "source": [
    "class Manager:\n",
    "    def __init__(self, overview):\n",
    "        self.rows = overview['rows']\n",
    "        self.cols = overview['cols']\n",
    "        self.vehicles = overview['vehicles']\n",
    "        self.rides = overview['rides']\n",
    "        self.bonus = overview['bonus']\n",
    "        self.steps = overview['steps']\n",
    "    \n",
    "    def ini_vehicles(self):\n",
    "        return [Vehicle() for i in range(overview['vehicles'])]\n",
    "\n",
    "    def ini_Ride(self):\n",
    "        return [Ride(ride_details.loc[i]) for i in range(overview['rides'])]\n",
    "    \n",
    "    def assign_vehicle(self, v_list, r_list, step):\n",
    "        for v_obj in v_list:\n",
    "            if v_obj.available:\n",
    "                for j, r_obj in enumerate(r_list):\n",
    "                    if ~r_obj.complete:\n",
    "                        dist_start = self.compute_x_dist(v_obj.v_row,   r_obj.row_st)+ self.compute_y_dist(v_obj.v_col, r_obj.col_st)\n",
    "                        if (r_obj.step_st > dist_start + step) & (r_obj.step_fin > dist_start + r_obj.distance + step):\n",
    "                            flag = 2\n",
    "                        elif (r_obj.step_fin > dist_start+ r_obj.distance):\n",
    "                            flag = 1\n",
    "                        else:\n",
    "                            flag = 0\n",
    "                        self.compute_score(r_obj, v_obj, flag)\n",
    "                        v_obj.booked_until = dist_start + r_obj.distance + step\n",
    "                        v_obj.update_position(r_obj)\n",
    "                        v_obj.update_availability()\n",
    "                        r_obj.update_completion()\n",
    "                        v_obj.rides_list.append(j)\n",
    "                        v_obj.num_rides = v_obj.num_rides + 1\n",
    "                        break\n",
    "                        \n",
    "    def check_availability(self, v_list, step):\n",
    "        for v_obj in v_list:\n",
    "            if ~v_obj.available:\n",
    "                if step > v_obj.booked_until:\n",
    "                    Vehicle.update_availability(v_obj)\n",
    "            \n",
    "        \n",
    "    def compute_score(self, r_obj, v_obj, flag=0):\n",
    "        \"\"\"0: no score, 1: dist, 2: dist + bonus\"\"\"\n",
    "        dist = self.compute_x_dist(r_obj.col_st, r_obj.col_fin)+self.compute_y_dist(r_obj.row_st, r_obj.row_fin)\n",
    "        if flag == 2:\n",
    "            v_obj.score = v_obj.score + dist + self.bonus\n",
    "        elif flag ==1:\n",
    "            v_obj.score = v_obj.score + dist\n",
    "    \n",
    "    def compute_x_dist(self, col_st, col_fin):\n",
    "        return abs(col_st - col_fin)\n",
    "    \n",
    "    def compute_y_dist(self, row_st, row_fin):\n",
    "        return abs(row_st - row_fin)"
   ]
  },
  {
   "cell_type": "code",
   "execution_count": 616,
   "metadata": {},
   "outputs": [],
   "source": [
    "class Vehicle:\n",
    "    def __init__(self):\n",
    "        self.v_row = 0\n",
    "        self.v_col = 0\n",
    "        self.available = True\n",
    "        self.score = 0\n",
    "        self.booked_until = -1\n",
    "        self.num_rides = 0\n",
    "        self.rides_list = []\n",
    "        \n",
    "    def update_position(self, ride):\n",
    "        \"\"\"Updates Position of vehicle\"\"\"\n",
    "        self.v_row = ride.row_fin\n",
    "        self.v_col = ride.col_fin\n",
    "        \n",
    "    def update_availability(self):\n",
    "        \"\"\"Toggles Availability\"\"\"\n",
    "        self.available = ~self.available"
   ]
  },
  {
   "cell_type": "code",
   "execution_count": 617,
   "metadata": {},
   "outputs": [],
   "source": [
    "class Ride:\n",
    "    def __init__(self, series):\n",
    "        self.row_st = series['row_start']\n",
    "        self.col_st = series['col_start']\n",
    "        self.row_fin = series['row_end']\n",
    "        self.col_fin = series['col_end']\n",
    "        self.step_st = series['early_start']\n",
    "        self.step_fin = series['late_finish']\n",
    "        self.distance = series['ride_dist']\n",
    "        self.complete = False\n",
    "        \n",
    "    def update_completion(self):\n",
    "        \"\"\"Toggles the flag that corresponds to completed ride\"\"\"\n",
    "        self.complete = ~self.complete"
   ]
  },
  {
   "cell_type": "code",
   "execution_count": 618,
   "metadata": {},
   "outputs": [],
   "source": [
    "# Read file\n",
    "file = open(path+filename, 'r')\n",
    "example = file.read()"
   ]
  },
  {
   "cell_type": "code",
   "execution_count": 619,
   "metadata": {},
   "outputs": [],
   "source": [
    "# Ride Details on DataFrame\n",
    "col_names = ['row_start', 'col_start', 'row_end', 'col_end', 'early_start', 'late_finish']\n",
    "rename_cols = dict(zip(list(range(0, len(col_names))), col_names))\n",
    "ride_details = pd.read_csv(path+filename, sep = ' ', header = None, skiprows = 1).rename(columns = rename_cols)\n",
    "ride_details['ride_dist'] = abs(ride_details['row_start']-ride_details['row_end']) + abs(ride_details['col_start']-ride_details['col_end'])"
   ]
  },
  {
   "cell_type": "code",
   "execution_count": 620,
   "metadata": {},
   "outputs": [],
   "source": [
    "# Parameters of problem on dict\n",
    "over_keys = ['rows', 'cols', 'vehicles', 'rides', 'bonus', 'steps']\n",
    "over_vals = [int(param) for param in example.split('\\n')[0].split(' ')]\n",
    "overview = dict(zip(over_keys, over_vals))"
   ]
  },
  {
   "cell_type": "code",
   "execution_count": 621,
   "metadata": {},
   "outputs": [],
   "source": [
    "m1 = Manager(overview)\n",
    "vehicle_list = m1.ini_vehicles()\n",
    "ride_list = m1.ini_Ride()"
   ]
  },
  {
   "cell_type": "code",
   "execution_count": 623,
   "metadata": {},
   "outputs": [],
   "source": [
    "for i in range(overview['steps']):\n",
    "    m1.check_availability(vehicle_list, i)\n",
    "    m1.assign_vehicle(vehicle_list, ride_list, i)\n",
    "    rides_completed = [1 for i in ride_list if i.complete]\n",
    "    if len(rides_completed) == overview['rides']:\n",
    "        break\n",
    "        "
   ]
  },
  {
   "cell_type": "code",
   "execution_count": 627,
   "metadata": {},
   "outputs": [
    {
     "name": "stdout",
     "output_type": "stream",
     "text": [
      "[0, 2] 8\n",
      "[1] 2\n"
     ]
    }
   ],
   "source": [
    "for i in vehicle_list:\n",
    "    print(i.rides_list, i.score)"
   ]
  }
 ],
 "metadata": {
  "kernelspec": {
   "display_name": "Python 3",
   "language": "python",
   "name": "python3"
  },
  "language_info": {
   "codemirror_mode": {
    "name": "ipython",
    "version": 3
   },
   "file_extension": ".py",
   "mimetype": "text/x-python",
   "name": "python",
   "nbconvert_exporter": "python",
   "pygments_lexer": "ipython3",
   "version": "3.7.2"
  }
 },
 "nbformat": 4,
 "nbformat_minor": 2
}
